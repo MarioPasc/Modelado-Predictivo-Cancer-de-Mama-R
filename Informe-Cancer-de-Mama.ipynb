{
  "cells": [
    {
      "cell_type": "raw",
      "metadata": {},
      "source": [
        "---\n",
        "title: \"Modelado Predictivo: Cáncer de Mama\" \n",
        "author: \"Mario Pascual González\"\n",
        "date: \"2024-03\"\n",
        "format:\n",
        "  html:\n",
        "    toc: true \n",
        "    toc_depth: 3\n",
        "    toc_position: left\n",
        "    number-sections: true\n",
        "    toc-title: Contenidos\n",
        "    toc_scroll: true\n",
        "    \n",
        "    code-fold: true\n",
        "    code-summary: \"Expand Code\"\n",
        "    code-line-numbers: false\n",
        "    code-tools: true\n",
        "    highlight-style: monokai\n",
        "---"
      ],
      "id": "571fb660"
    },
    {
      "cell_type": "code",
      "metadata": {},
      "source": [
        "import numpy as np"
      ],
      "id": "d65df026",
      "execution_count": null,
      "outputs": []
    }
  ],
  "metadata": {
    "kernelspec": {
      "display_name": "Python 3",
      "language": "python",
      "name": "python3"
    }
  },
  "nbformat": 4,
  "nbformat_minor": 5
}